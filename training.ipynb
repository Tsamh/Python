{
 "cells": [
  {
   "cell_type": "code",
   "execution_count": null,
   "id": "f6f02a76",
   "metadata": {},
   "outputs": [
    {
     "ename": "TypeError",
     "evalue": "string indices must be integers, not 'str'",
     "output_type": "error",
     "traceback": [
      "\u001b[1;31m---------------------------------------------------------------------------\u001b[0m",
      "\u001b[1;31mTypeError\u001b[0m                                 Traceback (most recent call last)",
      "Cell \u001b[1;32mIn[1], line 37\u001b[0m\n\u001b[0;32m     32\u001b[0m         \u001b[38;5;28mprint\u001b[39m(\u001b[38;5;124m\"\u001b[39m\u001b[38;5;124mLivre introuvable !\u001b[39m\u001b[38;5;124m\"\u001b[39m)\n\u001b[0;32m     36\u001b[0m trouver_livre(\u001b[38;5;124m\"\u001b[39m\u001b[38;5;124m11000\u001b[39m\u001b[38;5;124m\"\u001b[39m)\n\u001b[1;32m---> 37\u001b[0m \u001b[43mrendre_livre\u001b[49m\u001b[43m(\u001b[49m\u001b[43m)\u001b[49m\n",
      "Cell \u001b[1;32mIn[1], line 29\u001b[0m, in \u001b[0;36mrendre_livre\u001b[1;34m()\u001b[0m\n\u001b[0;32m     27\u001b[0m \u001b[38;5;28;01mif\u001b[39;00m livre:\n\u001b[0;32m     28\u001b[0m     nombre \u001b[38;5;241m=\u001b[39m \u001b[38;5;28mint\u001b[39m(\u001b[38;5;28minput\u001b[39m(\u001b[38;5;124mf\u001b[39m\u001b[38;5;124m\"\u001b[39m\u001b[38;5;124mEntrez le nombre de livre à rendre : \u001b[39m\u001b[38;5;124m\"\u001b[39m))\n\u001b[1;32m---> 29\u001b[0m     \u001b[43mlivre\u001b[49m\u001b[43m[\u001b[49m\u001b[38;5;124;43m\"\u001b[39;49m\u001b[38;5;124;43mnombre\u001b[39;49m\u001b[38;5;124;43m\"\u001b[39;49m\u001b[43m]\u001b[49m \u001b[38;5;241m+\u001b[39m\u001b[38;5;241m=\u001b[39m nombre\n\u001b[0;32m     30\u001b[0m     \u001b[38;5;28mprint\u001b[39m(\u001b[38;5;124mf\u001b[39m\u001b[38;5;124m\"\u001b[39m\u001b[38;5;124mLivre rendu ! Le livre \u001b[39m\u001b[38;5;132;01m{\u001b[39;00mlivre[\u001b[38;5;124m'\u001b[39m\u001b[38;5;124mTitre\u001b[39m\u001b[38;5;124m'\u001b[39m]\u001b[38;5;132;01m}\u001b[39;00m\u001b[38;5;124m a maintenant \u001b[39m\u001b[38;5;132;01m{\u001b[39;00mlivre[\u001b[38;5;124m'\u001b[39m\u001b[38;5;124mnombre\u001b[39m\u001b[38;5;124m'\u001b[39m]\u001b[38;5;132;01m}\u001b[39;00m\u001b[38;5;124m exemplairs dans notre stock !\u001b[39m\u001b[38;5;124m\"\u001b[39m)\n\u001b[0;32m     31\u001b[0m \u001b[38;5;28;01melse\u001b[39;00m:\n",
      "\u001b[1;31mTypeError\u001b[0m: string indices must be integers, not 'str'"
     ]
    }
   ],
   "source": [
    "\n",
    "    \n",
    "liste_livres = [\n",
    "    {\"Titre\": \"Le Hobbit\", \"Auteur\": \"Tolkien\", \"id\": \"11000\", \"nombre\": 4},\n",
    "    {\"Titre\": \"One Piece\", \"Auteur\": \"Eiichiro Oda\", \"id\": \"22000\", \"nombre\": 5},\n",
    "    {\"Titre\": \"Naruto\", \"Auteur\": \"Masashi Kishimoto\", \"id\": \"33000\", \"nombre\": 10},\n",
    "    {\"Titre\": \"Bleach\", \"Auteur\": \"Tite Kubo\", \"id\": \"44000\", \"nombre\": 2}\n",
    "]\n",
    "\n",
    "\n",
    "def trouver_livre(id):\n",
    "    for livre in liste_livres:\n",
    "        if livre[\"id\"] == id:\n",
    "            return livre\n",
    "    return \"Livre introuvable\"\n",
    "\n",
    "def prendre_livre(matricule, id):\n",
    "    etudiant = trouver_etudiant(matricule)\n",
    "    livre = trouver_livre(id)\n",
    "    if etudiant:\n",
    "        if livre:\n",
    "            nombre = int(input(f\"Entrez le nombre de livre à emprunter : \"))\n",
    "            livre[\"nombre\"] -= nombre\n",
    "            print(f\"{etudiant} a emprunté le livre {livre['Titre']}. Ce livre a maintenant {livre['nombre']} exemplaires dans notre stock !\")\n",
    "        else:\n",
    "            print(\"Livre introuvable !\")\n",
    "\n",
    "def rendre_livre():\n",
    "    id = input(\"Entrez l'id du livre à rendre: \")\n",
    "    livre = trouver_livre(id)\n",
    "    if livre:\n",
    "        nombre = int(input(f\"Entrez le nombre de livre à rendre : \"))\n",
    "        livre[\"nombre\"] += nombre\n",
    "        print(f\"Livre rendu ! Le livre {livre['Titre']} a maintenant {livre['nombre']} exemplairs dans notre stock !\")\n",
    "    else:\n",
    "        print(\"Livre introuvable !\")\n",
    "\n",
    "\n",
    "\n",
    "prendre_livre()\n",
    "rendre_livre()\n",
    "les_emprunts()\n",
    "\n",
    "\n"
   ]
  },
  {
   "cell_type": "code",
   "execution_count": null,
   "id": "74afb74b",
   "metadata": {},
   "outputs": [
    {
     "ename": "ValueError",
     "evalue": "invalid literal for int() with base 10: 't'",
     "output_type": "error",
     "traceback": [
      "\u001b[1;31m---------------------------------------------------------------------------\u001b[0m",
      "\u001b[1;31mValueError\u001b[0m                                Traceback (most recent call last)",
      "Cell \u001b[1;32mIn[3], line 16\u001b[0m\n\u001b[0;32m     14\u001b[0m etudiant[\u001b[38;5;124m'\u001b[39m\u001b[38;5;124mPrénom\u001b[39m\u001b[38;5;124m'\u001b[39m] \u001b[38;5;241m=\u001b[39m \u001b[38;5;28minput\u001b[39m(\u001b[38;5;124m\"\u001b[39m\u001b[38;5;124mEntrez le prénom de l\u001b[39m\u001b[38;5;124m'\u001b[39m\u001b[38;5;124métudiant : \u001b[39m\u001b[38;5;124m\"\u001b[39m)\n\u001b[0;32m     15\u001b[0m etudiant[\u001b[38;5;124m'\u001b[39m\u001b[38;5;124mNom\u001b[39m\u001b[38;5;124m'\u001b[39m] \u001b[38;5;241m=\u001b[39m \u001b[38;5;28minput\u001b[39m(\u001b[38;5;124m\"\u001b[39m\u001b[38;5;124mEntrez le nom de l\u001b[39m\u001b[38;5;124m'\u001b[39m\u001b[38;5;124métudiant : \u001b[39m\u001b[38;5;124m\"\u001b[39m)\n\u001b[1;32m---> 16\u001b[0m etudiant[\u001b[38;5;124m'\u001b[39m\u001b[38;5;124mage\u001b[39m\u001b[38;5;124m'\u001b[39m] \u001b[38;5;241m=\u001b[39m \u001b[38;5;28;43mint\u001b[39;49m\u001b[43m(\u001b[49m\u001b[38;5;28;43minput\u001b[39;49m\u001b[43m(\u001b[49m\u001b[38;5;124;43m\"\u001b[39;49m\u001b[38;5;124;43mEntrez l\u001b[39;49m\u001b[38;5;124;43m'\u001b[39;49m\u001b[38;5;124;43mâge de l\u001b[39;49m\u001b[38;5;124;43m'\u001b[39;49m\u001b[38;5;124;43métudiant\u001b[39;49m\u001b[38;5;124;43m\"\u001b[39;49m\u001b[43m)\u001b[49m\u001b[43m)\u001b[49m\n\u001b[0;32m     17\u001b[0m etudiant[\u001b[38;5;124m'\u001b[39m\u001b[38;5;124mMatricule\u001b[39m\u001b[38;5;124m'\u001b[39m] \u001b[38;5;241m=\u001b[39m randint(\u001b[38;5;241m1\u001b[39m,\u001b[38;5;241m100\u001b[39m)\n\u001b[0;32m     18\u001b[0m a \u001b[38;5;241m=\u001b[39m ajouter_etu(etudiant, list_etu)\n",
      "\u001b[1;31mValueError\u001b[0m: invalid literal for int() with base 10: 't'"
     ]
    }
   ],
   "source": [
    "from ges_etudiants import ajouter_etu\n",
    "from random import randint\n",
    "import ges_etudiants\n",
    "\n",
    "list_etu = []\n",
    "n = int(input(\"Entrez le nombre d'étudiants : \"))\n",
    "a = 0\n",
    "for i in range(n):\n",
    "    etudiant = {}\n",
    "    etudiant['Prénom'] = input(\"Entrez le prénom de l'étudiant : \")\n",
    "    etudiant['Nom'] = input(\"Entrez le nom de l'étudiant : \")\n",
    "    etudiant['age'] = int(input(\"Entrez l'âge de l'étudiant\"))\n",
    "    etudiant['Matricule'] = randint(1,100)\n",
    "    a = ajouter_etu(etudiant, list_etu)\n",
    "\n",
    "\n",
    "print(a)\n",
    "# print(lister(list_etu))\n",
    "# print(modifier_etu())\n",
    "# print(supprimer_etu())\n",
    "# print(rechercher_etu())"
   ]
  }
 ],
 "metadata": {
  "kernelspec": {
   "display_name": "Python 3",
   "language": "python",
   "name": "python3"
  },
  "language_info": {
   "codemirror_mode": {
    "name": "ipython",
    "version": 3
   },
   "file_extension": ".py",
   "mimetype": "text/x-python",
   "name": "python",
   "nbconvert_exporter": "python",
   "pygments_lexer": "ipython3",
   "version": "3.13.1"
  }
 },
 "nbformat": 4,
 "nbformat_minor": 5
}
